{
 "cells": [
  {
   "cell_type": "markdown",
   "metadata": {},
   "source": [
    "# COVID-19 world\n",
    "\n",
    "https://gisanddata.maps.arcgis.com/apps/opsdashboard/index.html#/bda7594740fd40299423467b48e9ecf6\n",
    "\n",
    "https://github.com/CSSEGISandData/COVID-19"
   ]
  },
  {
   "cell_type": "code",
   "execution_count": 1,
   "metadata": {},
   "outputs": [
    {
     "data": {
      "text/plain": [
       "['/Users/andreazen/Dropbox/GitHub/COVID-19_plots',\n",
       " '/usr/local/Cellar/python/3.7.6_1/Frameworks/Python.framework/Versions/3.7/lib/python37.zip',\n",
       " '/usr/local/Cellar/python/3.7.6_1/Frameworks/Python.framework/Versions/3.7/lib/python3.7',\n",
       " '/usr/local/Cellar/python/3.7.6_1/Frameworks/Python.framework/Versions/3.7/lib/python3.7/lib-dynload',\n",
       " '',\n",
       " '/Users/andreazen/Library/Python/3.7/lib/python/site-packages',\n",
       " '/usr/local/lib/python3.7/site-packages',\n",
       " '/usr/local/lib/python3.7/site-packages/IPython/extensions',\n",
       " '/Users/andreazen/.ipython']"
      ]
     },
     "execution_count": 1,
     "metadata": {},
     "output_type": "execute_result"
    }
   ],
   "source": [
    "import sys\n",
    "#sys.path.append('/usr/local/lib/python3.7/site-packages')\n",
    "sys.path"
   ]
  },
  {
   "cell_type": "code",
   "execution_count": 2,
   "metadata": {},
   "outputs": [],
   "source": [
    "import numpy as np\n",
    "import pandas as pd\n",
    "import matplotlib as mpl\n",
    "import matplotlib.pyplot as plt\n",
    "\n",
    "from datetime import datetime\n",
    "from matplotlib.dates import DateFormatter\n",
    "import matplotlib.dates as mdates\n",
    "from matplotlib.ticker import MultipleLocator"
   ]
  },
  {
   "cell_type": "code",
   "execution_count": 3,
   "metadata": {},
   "outputs": [],
   "source": [
    "dati = pd.read_csv('https://raw.githubusercontent.com/CSSEGISandData/COVID-19/master/csse_covid_19_data/csse_covid_19_time_series/time_series_19-covid-Confirmed.csv')\n",
    "#csse_covid_19_data/csse_covid_19_time_series/time_series_19-covid-Confirmed.csv"
   ]
  },
  {
   "cell_type": "code",
   "execution_count": 4,
   "metadata": {
    "collapsed": true
   },
   "outputs": [
    {
     "data": {
      "text/html": [
       "<div>\n",
       "<style scoped>\n",
       "    .dataframe tbody tr th:only-of-type {\n",
       "        vertical-align: middle;\n",
       "    }\n",
       "\n",
       "    .dataframe tbody tr th {\n",
       "        vertical-align: top;\n",
       "    }\n",
       "\n",
       "    .dataframe thead th {\n",
       "        text-align: right;\n",
       "    }\n",
       "</style>\n",
       "<table border=\"1\" class=\"dataframe\">\n",
       "  <thead>\n",
       "    <tr style=\"text-align: right;\">\n",
       "      <th></th>\n",
       "      <th>Province/State</th>\n",
       "      <th>Country/Region</th>\n",
       "      <th>Lat</th>\n",
       "      <th>Long</th>\n",
       "      <th>1/22/20</th>\n",
       "      <th>1/23/20</th>\n",
       "      <th>1/24/20</th>\n",
       "      <th>1/25/20</th>\n",
       "      <th>1/26/20</th>\n",
       "      <th>1/27/20</th>\n",
       "      <th>...</th>\n",
       "      <th>3/2/20</th>\n",
       "      <th>3/3/20</th>\n",
       "      <th>3/4/20</th>\n",
       "      <th>3/5/20</th>\n",
       "      <th>3/6/20</th>\n",
       "      <th>3/7/20</th>\n",
       "      <th>3/8/20</th>\n",
       "      <th>3/9/20</th>\n",
       "      <th>3/10/20</th>\n",
       "      <th>3/11/20</th>\n",
       "    </tr>\n",
       "  </thead>\n",
       "  <tbody>\n",
       "    <tr>\n",
       "      <th>399</th>\n",
       "      <td>Saint Barthelemy</td>\n",
       "      <td>France</td>\n",
       "      <td>17.9000</td>\n",
       "      <td>-62.8333</td>\n",
       "      <td>0</td>\n",
       "      <td>0</td>\n",
       "      <td>0</td>\n",
       "      <td>0</td>\n",
       "      <td>0</td>\n",
       "      <td>0</td>\n",
       "      <td>...</td>\n",
       "      <td>0</td>\n",
       "      <td>0</td>\n",
       "      <td>0</td>\n",
       "      <td>0</td>\n",
       "      <td>0</td>\n",
       "      <td>0</td>\n",
       "      <td>0</td>\n",
       "      <td>0</td>\n",
       "      <td>0</td>\n",
       "      <td>1.0</td>\n",
       "    </tr>\n",
       "    <tr>\n",
       "      <th>400</th>\n",
       "      <td>NaN</td>\n",
       "      <td>Jamaica</td>\n",
       "      <td>18.1096</td>\n",
       "      <td>-77.2975</td>\n",
       "      <td>0</td>\n",
       "      <td>0</td>\n",
       "      <td>0</td>\n",
       "      <td>0</td>\n",
       "      <td>0</td>\n",
       "      <td>0</td>\n",
       "      <td>...</td>\n",
       "      <td>0</td>\n",
       "      <td>0</td>\n",
       "      <td>0</td>\n",
       "      <td>0</td>\n",
       "      <td>0</td>\n",
       "      <td>0</td>\n",
       "      <td>0</td>\n",
       "      <td>0</td>\n",
       "      <td>0</td>\n",
       "      <td>1.0</td>\n",
       "    </tr>\n",
       "    <tr>\n",
       "      <th>401</th>\n",
       "      <td>NaN</td>\n",
       "      <td>Reunion</td>\n",
       "      <td>-21.1151</td>\n",
       "      <td>55.5364</td>\n",
       "      <td>0</td>\n",
       "      <td>0</td>\n",
       "      <td>0</td>\n",
       "      <td>0</td>\n",
       "      <td>0</td>\n",
       "      <td>0</td>\n",
       "      <td>...</td>\n",
       "      <td>0</td>\n",
       "      <td>0</td>\n",
       "      <td>0</td>\n",
       "      <td>0</td>\n",
       "      <td>0</td>\n",
       "      <td>0</td>\n",
       "      <td>0</td>\n",
       "      <td>0</td>\n",
       "      <td>0</td>\n",
       "      <td>1.0</td>\n",
       "    </tr>\n",
       "    <tr>\n",
       "      <th>402</th>\n",
       "      <td>NaN</td>\n",
       "      <td>Turkey</td>\n",
       "      <td>38.9637</td>\n",
       "      <td>35.2433</td>\n",
       "      <td>0</td>\n",
       "      <td>0</td>\n",
       "      <td>0</td>\n",
       "      <td>0</td>\n",
       "      <td>0</td>\n",
       "      <td>0</td>\n",
       "      <td>...</td>\n",
       "      <td>0</td>\n",
       "      <td>0</td>\n",
       "      <td>0</td>\n",
       "      <td>0</td>\n",
       "      <td>0</td>\n",
       "      <td>0</td>\n",
       "      <td>0</td>\n",
       "      <td>0</td>\n",
       "      <td>0</td>\n",
       "      <td>1.0</td>\n",
       "    </tr>\n",
       "    <tr>\n",
       "      <th>403</th>\n",
       "      <td>Gibraltar</td>\n",
       "      <td>United Kingdom</td>\n",
       "      <td>36.1408</td>\n",
       "      <td>-5.3536</td>\n",
       "      <td>0</td>\n",
       "      <td>0</td>\n",
       "      <td>0</td>\n",
       "      <td>0</td>\n",
       "      <td>0</td>\n",
       "      <td>0</td>\n",
       "      <td>...</td>\n",
       "      <td>0</td>\n",
       "      <td>0</td>\n",
       "      <td>0</td>\n",
       "      <td>0</td>\n",
       "      <td>0</td>\n",
       "      <td>0</td>\n",
       "      <td>0</td>\n",
       "      <td>0</td>\n",
       "      <td>0</td>\n",
       "      <td>1.0</td>\n",
       "    </tr>\n",
       "  </tbody>\n",
       "</table>\n",
       "<p>5 rows × 54 columns</p>\n",
       "</div>"
      ],
      "text/plain": [
       "       Province/State  Country/Region      Lat     Long  1/22/20  1/23/20  \\\n",
       "399  Saint Barthelemy          France  17.9000 -62.8333        0        0   \n",
       "400               NaN         Jamaica  18.1096 -77.2975        0        0   \n",
       "401               NaN         Reunion -21.1151  55.5364        0        0   \n",
       "402               NaN          Turkey  38.9637  35.2433        0        0   \n",
       "403         Gibraltar  United Kingdom  36.1408  -5.3536        0        0   \n",
       "\n",
       "     1/24/20  1/25/20  1/26/20  1/27/20  ...  3/2/20  3/3/20  3/4/20  3/5/20  \\\n",
       "399        0        0        0        0  ...       0       0       0       0   \n",
       "400        0        0        0        0  ...       0       0       0       0   \n",
       "401        0        0        0        0  ...       0       0       0       0   \n",
       "402        0        0        0        0  ...       0       0       0       0   \n",
       "403        0        0        0        0  ...       0       0       0       0   \n",
       "\n",
       "     3/6/20  3/7/20  3/8/20  3/9/20  3/10/20  3/11/20  \n",
       "399       0       0       0       0        0      1.0  \n",
       "400       0       0       0       0        0      1.0  \n",
       "401       0       0       0       0        0      1.0  \n",
       "402       0       0       0       0        0      1.0  \n",
       "403       0       0       0       0        0      1.0  \n",
       "\n",
       "[5 rows x 54 columns]"
      ]
     },
     "execution_count": 4,
     "metadata": {},
     "output_type": "execute_result"
    }
   ],
   "source": [
    "dati.tail()"
   ]
  },
  {
   "cell_type": "code",
   "execution_count": 5,
   "metadata": {
    "collapsed": true
   },
   "outputs": [
    {
     "data": {
      "text/plain": [
       "Index(['Province/State', 'Country/Region', 'Lat', 'Long', '1/22/20', '1/23/20',\n",
       "       '1/24/20', '1/25/20', '1/26/20', '1/27/20', '1/28/20', '1/29/20',\n",
       "       '1/30/20', '1/31/20', '2/1/20', '2/2/20', '2/3/20', '2/4/20', '2/5/20',\n",
       "       '2/6/20', '2/7/20', '2/8/20', '2/9/20', '2/10/20', '2/11/20', '2/12/20',\n",
       "       '2/13/20', '2/14/20', '2/15/20', '2/16/20', '2/17/20', '2/18/20',\n",
       "       '2/19/20', '2/20/20', '2/21/20', '2/22/20', '2/23/20', '2/24/20',\n",
       "       '2/25/20', '2/26/20', '2/27/20', '2/28/20', '2/29/20', '3/1/20',\n",
       "       '3/2/20', '3/3/20', '3/4/20', '3/5/20', '3/6/20', '3/7/20', '3/8/20',\n",
       "       '3/9/20', '3/10/20', '3/11/20'],\n",
       "      dtype='object')"
      ]
     },
     "execution_count": 5,
     "metadata": {},
     "output_type": "execute_result"
    }
   ],
   "source": [
    "dati.columns"
   ]
  },
  {
   "cell_type": "code",
   "execution_count": 6,
   "metadata": {},
   "outputs": [
    {
     "data": {
      "text/plain": [
       "RangeIndex(start=0, stop=404, step=1)"
      ]
     },
     "execution_count": 6,
     "metadata": {},
     "output_type": "execute_result"
    }
   ],
   "source": [
    "#dati.describe()\n",
    "dati.index"
   ]
  },
  {
   "cell_type": "code",
   "execution_count": 7,
   "metadata": {
    "collapsed": true
   },
   "outputs": [
    {
     "data": {
      "text/plain": [
       "Province/State    King County, WACook County, ILLos Angeles, CAS...\n",
       "Country/Region    USUSUSUSUSUSUSUSUSUSUSUSUSUSUSUSUSUSUSUSUSUSUS...\n",
       "Lat                                                         7483.19\n",
       "Long                                                       -18066.8\n",
       "1/22/20                                                           1\n",
       "1/23/20                                                           1\n",
       "1/24/20                                                           2\n",
       "1/25/20                                                           2\n",
       "1/26/20                                                           5\n",
       "1/27/20                                                           5\n",
       "1/28/20                                                           5\n",
       "1/29/20                                                           5\n",
       "1/30/20                                                           5\n",
       "1/31/20                                                           7\n",
       "2/1/20                                                            8\n",
       "2/2/20                                                            8\n",
       "2/3/20                                                           11\n",
       "2/4/20                                                           11\n",
       "2/5/20                                                           11\n",
       "2/6/20                                                           11\n",
       "2/7/20                                                           11\n",
       "2/8/20                                                           11\n",
       "2/9/20                                                           11\n",
       "2/10/20                                                          11\n",
       "2/11/20                                                          12\n",
       "2/12/20                                                          12\n",
       "2/13/20                                                          13\n",
       "2/14/20                                                          13\n",
       "2/15/20                                                          13\n",
       "2/16/20                                                          13\n",
       "2/17/20                                                          13\n",
       "2/18/20                                                          13\n",
       "2/19/20                                                          13\n",
       "2/20/20                                                          13\n",
       "2/21/20                                                          15\n",
       "2/22/20                                                          15\n",
       "2/23/20                                                          15\n",
       "2/24/20                                                          51\n",
       "2/25/20                                                          51\n",
       "2/26/20                                                          57\n",
       "2/27/20                                                          58\n",
       "2/28/20                                                          60\n",
       "2/29/20                                                          68\n",
       "3/1/20                                                           74\n",
       "3/2/20                                                           98\n",
       "3/3/20                                                          118\n",
       "3/4/20                                                          149\n",
       "3/5/20                                                          217\n",
       "3/6/20                                                          267\n",
       "3/7/20                                                          403\n",
       "3/8/20                                                          518\n",
       "3/9/20                                                          584\n",
       "3/10/20                                                        1670\n",
       "3/11/20                                                        1281\n",
       "dtype: object"
      ]
     },
     "execution_count": 7,
     "metadata": {},
     "output_type": "execute_result"
    }
   ],
   "source": [
    "a = dati[ dati['Country/Region'] == 'US' ]\n",
    "len( list( a['Province/State'] ) )\n",
    "#print(a)\n",
    "#type(a\n",
    "a.sum()"
   ]
  },
  {
   "cell_type": "code",
   "execution_count": 8,
   "metadata": {
    "collapsed": true
   },
   "outputs": [
    {
     "data": {
      "text/plain": [
       "(array([ 0,  1,  2,  3,  4,  5,  6,  7,  8,  9, 10, 11, 12, 13, 14, 15, 16,\n",
       "        17, 18, 19, 20, 21, 22, 23, 24, 25, 26, 27, 28, 29, 30, 31, 32, 33,\n",
       "        34, 35, 36, 37, 38, 39, 40, 41, 42, 43, 44, 45, 46, 47, 48, 49]),\n",
       " array([444, 444, 549, 761, 1058, 1423, 3554, 3554, 4903, 5806, 7153,\n",
       "        11177, 13522, 16678, 19665, 22112, 24953, 27100, 29631, 31728,\n",
       "        33366, 33366, 48206, 54406, 56249, 58182, 59989, 61682, 62031,\n",
       "        62442, 62662, 64084, 64084, 64287, 64786, 65187, 65596, 65914,\n",
       "        66337, 66907, 67103, 67217, 67332, 67466, 67592, 67666, 67707,\n",
       "        67743, 67760, 0, 0, 0, 0, 0, 0, 0, 0, 0, 0, 0, 0, 0, 0, 0, 0, 0, 0,\n",
       "        0, 0, 0, 0, 0, 0, 0, 0, 0, 0, 0, 0, 0, 0, 0, 0, 0, 0, 0, 0, 0, 0,\n",
       "        0, 0, 0, 0, 0, 0, 0, 0, 0, 67773.0], dtype=object))"
      ]
     },
     "execution_count": 8,
     "metadata": {},
     "output_type": "execute_result"
    }
   ],
   "source": [
    "b = dati[ dati['Province/State'] == 'Hubei' ].T['1/22/20':].index\n",
    "dati.T['1/22/20':].index\n",
    "y = dati[ dati['Province/State'] == 'Hubei' ].T['1/22/20':].T.stack().to_numpy()\n",
    "xticks = dati.T['1/22/20':].index\n",
    "x = np.arange( len(xticks) )\n",
    "x, y"
   ]
  },
  {
   "cell_type": "code",
   "execution_count": 14,
   "metadata": {
    "collapsed": true
   },
   "outputs": [
    {
     "name": "stdout",
     "output_type": "stream",
     "text": [
      "Jan 22\n",
      "Jan 23\n",
      "Jan 24\n",
      "Jan 25\n",
      "Jan 26\n",
      "Jan 27\n",
      "Jan 28\n",
      "Jan 29\n",
      "Jan 30\n",
      "Jan 31\n",
      "Feb 01\n",
      "Feb 02\n",
      "Feb 03\n",
      "Feb 04\n",
      "Feb 05\n",
      "Feb 06\n",
      "Feb 07\n",
      "Feb 08\n",
      "Feb 09\n",
      "Feb 10\n",
      "Feb 11\n",
      "Feb 12\n",
      "Feb 13\n",
      "Feb 14\n",
      "Feb 15\n",
      "Feb 16\n",
      "Feb 17\n",
      "Feb 18\n",
      "Feb 19\n",
      "Feb 20\n",
      "Feb 21\n",
      "Feb 22\n",
      "Feb 23\n",
      "Feb 24\n",
      "Feb 25\n",
      "Feb 26\n",
      "Feb 27\n",
      "Feb 28\n",
      "Feb 29\n",
      "Mar 01\n",
      "Mar 02\n",
      "Mar 03\n",
      "Mar 04\n",
      "Mar 05\n",
      "Mar 06\n",
      "Mar 07\n",
      "Mar 08\n",
      "Mar 09\n",
      "Mar 10\n",
      "Mar 11\n",
      "Mar 12\n",
      "Mar 13\n",
      "Mar 14\n"
     ]
    }
   ],
   "source": [
    "datetime.strptime(\"1/22/20\", '%m/%d/%y').strftime('%m %d')\n",
    "#datetime.strptime(, '%m/%d/%y').strftime('%m %d')\n",
    "xticks\n",
    "for date in list(xticks):\n",
    "    print(datetime.strptime(date, '%m/%d/%y').strftime('%b %d'))"
   ]
  },
  {
   "cell_type": "code",
   "execution_count": 4,
   "metadata": {
    "scrolled": false
   },
   "outputs": [
    {
     "name": "stdout",
     "output_type": "stream",
     "text": [
      "Italy 41035\n",
      "France 10947\n",
      "Germany 15320\n",
      "Spain 17963\n",
      "United Kingdom 2716\n",
      "Belgium 1795\n",
      "China 81156\n",
      "Japan 924\n",
      "Korea, South 8565\n",
      "Iran 18407\n",
      "US 13677\n",
      "Singapore 345\n"
     ]
    },
    {
     "data": {
      "image/png": "[encoded data removed]",
      "text/plain": [
       "<Figure size 720x576 with 1 Axes>"
      ]
     },
     "metadata": {
      "needs_background": "light"
     },
     "output_type": "display_data"
    }
   ],
   "source": [
    "%matplotlib inline \n",
    "##%matplotlib \n",
    "\n",
    "plt.rcParams['figure.figsize'] = [10, 8]\n",
    "plt.close('all')\n",
    "fig, ax = plt.subplots()\n",
    "\n",
    "xticks = dati.T['1/22/20':].index\n",
    "fxticks = [ datetime.strptime(date, '%m/%d/%y').strftime('%b %d') for date in list(xticks) ]\n",
    "x = np.arange( len(xticks) )\n",
    "\n",
    "#y = dati[ dati['Province/State'] == 'Hubei' ].T['1/22/20':].T.stack().to_numpy()\n",
    "#plt.plot(x, y, marker='o',label='Hubei')\n",
    "\n",
    "#lista = ['Italy', 'France', 'Germany']\n",
    "#for name in lista:\n",
    "#    print('Fetching ',name)\n",
    "#    y = dati[ dati['Country/Region'] == name ].T['1/22/20':].T.stack().to_numpy()\n",
    "#    plt.plot(x, y, marker='o',label=name )\n",
    "    \n",
    "lista = ['Italy', 'France', 'Germany', 'Spain', 'United Kingdom']\n",
    "lista.append('Belgium') \n",
    "lista.append('China') \n",
    "lista.append('Japan') \n",
    "lista.append('Korea, South') \n",
    "lista.append('Iran') \n",
    "lista.append('US') \n",
    "lista.append('Singapore') \n",
    "for name in lista:\n",
    "#    print(name)\n",
    "    y = dati[ dati['Country/Region'] == name ].sum()['1/22/20':].to_numpy()\n",
    "#    print(y)\n",
    "    print(name,y[-1])\n",
    "    plt.plot(x, y, \n",
    "             marker = 'o',\n",
    "             linestyle = ':',\n",
    "             label = name )\n",
    "\n",
    "lista = []\n",
    "#lista = ['Hubei', 'Beijing']\n",
    "for name in lista:\n",
    "    print(name)\n",
    "    y = dati[ dati['Province/State'] == name ].T['1/22/20':].T.stack().to_numpy()\n",
    "    plt.plot(x, y, \n",
    "             marker = '.', \n",
    "             linestyle ='', \n",
    "             label = name)\n",
    "    \n",
    "start = 5; step = 7\n",
    "plt.xticks(x[start::step], fxticks[start::step])\n",
    "ax.xaxis.set_minor_locator(MultipleLocator())\n",
    "\n",
    "#plt.axhline(y=50000,color='b', linestyle='-.')\n",
    "\n",
    "plt.legend(loc='best')\n",
    "plt.ylim(bottom=10)\n",
    "plt.yscale('log')\n",
    "plt.grid()\n",
    "#plt.grid(which='both')"
   ]
  },
  {
   "cell_type": "code",
   "execution_count": null,
   "metadata": {},
   "outputs": [],
   "source": []
  }
 ],
 "metadata": {
  "kernelspec": {
   "display_name": "Python 3",
   "language": "python",
   "name": "python3"
  },
  "language_info": {
   "codemirror_mode": {
    "name": "ipython",
    "version": 3
   },
   "file_extension": ".py",
   "mimetype": "text/x-python",
   "name": "python",
   "nbconvert_exporter": "python",
   "pygments_lexer": "ipython3",
   "version": "3.7.6"
  }
 },
 "nbformat": 4,
 "nbformat_minor": 4
}
